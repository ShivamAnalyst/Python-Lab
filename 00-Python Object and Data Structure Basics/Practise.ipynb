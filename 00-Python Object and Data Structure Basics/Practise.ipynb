{
 "cells": [
  {
   "cell_type": "markdown",
   "id": "392b13ec",
   "metadata": {},
   "source": [
    "___\n",
    "\n",
    "<a href='https://github.com/shivamjhads/Python-Lab'><img src='../Logo.png'/></a>\n",
    "___\n",
    "<center><em>Python for DataScience</em></center>"
   ]
  },
  {
   "cell_type": "markdown",
   "id": "50779584",
   "metadata": {},
   "source": [
    "#### Variable Assignment"
   ]
  },
  {
   "cell_type": "code",
   "execution_count": 1,
   "id": "aeb587e8",
   "metadata": {},
   "outputs": [],
   "source": [
    "my_dogs = 2"
   ]
  },
  {
   "cell_type": "code",
   "execution_count": 2,
   "id": "54a055c4",
   "metadata": {},
   "outputs": [
    {
     "data": {
      "text/plain": [
       "2"
      ]
     },
     "execution_count": 2,
     "metadata": {},
     "output_type": "execute_result"
    }
   ],
   "source": [
    "my_dogs"
   ]
  },
  {
   "cell_type": "code",
   "execution_count": 3,
   "id": "f10c8d65",
   "metadata": {},
   "outputs": [
    {
     "data": {
      "text/plain": [
       "int"
      ]
     },
     "execution_count": 3,
     "metadata": {},
     "output_type": "execute_result"
    }
   ],
   "source": [
    "type(my_dogs)"
   ]
  },
  {
   "cell_type": "code",
   "execution_count": 4,
   "id": "aa0c5f3f",
   "metadata": {},
   "outputs": [],
   "source": [
    "my_dogs = ['Sammy', 'Frankie']"
   ]
  },
  {
   "cell_type": "code",
   "execution_count": 5,
   "id": "7cdaca1a",
   "metadata": {},
   "outputs": [
    {
     "data": {
      "text/plain": [
       "['Sammy', 'Frankie']"
      ]
     },
     "execution_count": 5,
     "metadata": {},
     "output_type": "execute_result"
    }
   ],
   "source": [
    "my_dogs"
   ]
  },
  {
   "cell_type": "code",
   "execution_count": 6,
   "id": "98818dd0",
   "metadata": {},
   "outputs": [
    {
     "data": {
      "text/plain": [
       "list"
      ]
     },
     "execution_count": 6,
     "metadata": {},
     "output_type": "execute_result"
    }
   ],
   "source": [
    "type(my_dogs)"
   ]
  },
  {
   "cell_type": "code",
   "execution_count": 7,
   "id": "0a1cbe9b",
   "metadata": {},
   "outputs": [],
   "source": [
    "a = 5"
   ]
  },
  {
   "cell_type": "code",
   "execution_count": 8,
   "id": "4d2f6ebb",
   "metadata": {},
   "outputs": [
    {
     "data": {
      "text/plain": [
       "5"
      ]
     },
     "execution_count": 8,
     "metadata": {},
     "output_type": "execute_result"
    }
   ],
   "source": [
    "a"
   ]
  },
  {
   "cell_type": "code",
   "execution_count": 9,
   "id": "72d3da62",
   "metadata": {},
   "outputs": [],
   "source": [
    "a = 10"
   ]
  },
  {
   "cell_type": "code",
   "execution_count": 10,
   "id": "5900d5d9",
   "metadata": {},
   "outputs": [
    {
     "data": {
      "text/plain": [
       "10"
      ]
     },
     "execution_count": 10,
     "metadata": {},
     "output_type": "execute_result"
    }
   ],
   "source": [
    "a"
   ]
  },
  {
   "cell_type": "code",
   "execution_count": 11,
   "id": "6bedea08",
   "metadata": {},
   "outputs": [
    {
     "data": {
      "text/plain": [
       "20"
      ]
     },
     "execution_count": 11,
     "metadata": {},
     "output_type": "execute_result"
    }
   ],
   "source": [
    "a + a"
   ]
  },
  {
   "cell_type": "code",
   "execution_count": 12,
   "id": "880f774c",
   "metadata": {},
   "outputs": [
    {
     "data": {
      "text/plain": [
       "20"
      ]
     },
     "execution_count": 12,
     "metadata": {},
     "output_type": "execute_result"
    }
   ],
   "source": [
    "a = a + 10\n",
    "a"
   ]
  },
  {
   "cell_type": "code",
   "execution_count": 13,
   "id": "1f2961bb",
   "metadata": {},
   "outputs": [
    {
     "data": {
      "text/plain": [
       "30"
      ]
     },
     "execution_count": 13,
     "metadata": {},
     "output_type": "execute_result"
    }
   ],
   "source": [
    "a += 10\n",
    "a"
   ]
  },
  {
   "cell_type": "code",
   "execution_count": 14,
   "id": "12516314",
   "metadata": {},
   "outputs": [],
   "source": [
    "a *= 2"
   ]
  },
  {
   "cell_type": "code",
   "execution_count": 15,
   "id": "346a4411",
   "metadata": {},
   "outputs": [
    {
     "data": {
      "text/plain": [
       "60"
      ]
     },
     "execution_count": 15,
     "metadata": {},
     "output_type": "execute_result"
    }
   ],
   "source": [
    "a"
   ]
  },
  {
   "cell_type": "code",
   "execution_count": 16,
   "id": "e79be558",
   "metadata": {},
   "outputs": [
    {
     "data": {
      "text/plain": [
       "int"
      ]
     },
     "execution_count": 16,
     "metadata": {},
     "output_type": "execute_result"
    }
   ],
   "source": [
    "type(a)"
   ]
  },
  {
   "cell_type": "code",
   "execution_count": 17,
   "id": "f168c6ca",
   "metadata": {},
   "outputs": [],
   "source": [
    "a = (1, 2)"
   ]
  },
  {
   "cell_type": "code",
   "execution_count": 18,
   "id": "30bba31d",
   "metadata": {},
   "outputs": [
    {
     "data": {
      "text/plain": [
       "tuple"
      ]
     },
     "execution_count": 18,
     "metadata": {},
     "output_type": "execute_result"
    }
   ],
   "source": [
    "type(a)"
   ]
  },
  {
   "cell_type": "code",
   "execution_count": 19,
   "id": "044bf509",
   "metadata": {},
   "outputs": [],
   "source": [
    "my_income = 100\n",
    "tax_rate = 0.1\n",
    "my_taxes = my_income * tax_rate"
   ]
  },
  {
   "cell_type": "code",
   "execution_count": 20,
   "id": "21971f80",
   "metadata": {},
   "outputs": [
    {
     "data": {
      "text/plain": [
       "10.0"
      ]
     },
     "execution_count": 20,
     "metadata": {},
     "output_type": "execute_result"
    }
   ],
   "source": [
    "my_taxes"
   ]
  },
  {
   "cell_type": "code",
   "execution_count": 21,
   "id": "5fe5abab",
   "metadata": {},
   "outputs": [
    {
     "name": "stdout",
     "output_type": "stream",
     "text": [
      "64\n"
     ]
    }
   ],
   "source": [
    "p = 4**3\n",
    "print(p)"
   ]
  },
  {
   "cell_type": "code",
   "execution_count": 22,
   "id": "13fe7b9e",
   "metadata": {},
   "outputs": [
    {
     "data": {
      "text/plain": [
       "1"
      ]
     },
     "execution_count": 22,
     "metadata": {},
     "output_type": "execute_result"
    }
   ],
   "source": [
    "z = 21 % 4\n",
    "z"
   ]
  },
  {
   "cell_type": "code",
   "execution_count": 23,
   "id": "cce81533",
   "metadata": {},
   "outputs": [
    {
     "name": "stdout",
     "output_type": "stream",
     "text": [
      "4\n"
     ]
    }
   ],
   "source": [
    "y = 23 // 5\n",
    "print(y)"
   ]
  },
  {
   "cell_type": "code",
   "execution_count": 24,
   "id": "50b0e1e8",
   "metadata": {},
   "outputs": [
    {
     "data": {
      "text/plain": [
       "'Hello'"
      ]
     },
     "execution_count": 24,
     "metadata": {},
     "output_type": "execute_result"
    }
   ],
   "source": [
    "# Single Word\n",
    "'Hello'"
   ]
  },
  {
   "cell_type": "code",
   "execution_count": 25,
   "id": "2957fa22",
   "metadata": {},
   "outputs": [
    {
     "data": {
      "text/plain": [
       "'I am learning string in Python'"
      ]
     },
     "execution_count": 25,
     "metadata": {},
     "output_type": "execute_result"
    }
   ],
   "source": [
    "# Entire phrase\n",
    "'I am learning string in Python'"
   ]
  },
  {
   "cell_type": "code",
   "execution_count": 26,
   "id": "81381dd1",
   "metadata": {},
   "outputs": [
    {
     "data": {
      "text/plain": [
       "'String can have double quote'"
      ]
     },
     "execution_count": 26,
     "metadata": {},
     "output_type": "execute_result"
    }
   ],
   "source": [
    "# String in double quote\n",
    "\"String can have double quote\""
   ]
  },
  {
   "cell_type": "code",
   "execution_count": 27,
   "id": "8888f36e",
   "metadata": {},
   "outputs": [
    {
     "ename": "SyntaxError",
     "evalue": "invalid syntax (4048659959.py, line 2)",
     "output_type": "error",
     "traceback": [
      "\u001b[0;36m  File \u001b[0;32m\"/var/folders/9t/0rf19dxs4xb82c79_12x19ph0000gn/T/ipykernel_4237/4048659959.py\"\u001b[0;36m, line \u001b[0;32m2\u001b[0m\n\u001b[0;31m    'I'am using single quote and this will throw error'\u001b[0m\n\u001b[0m       ^\u001b[0m\n\u001b[0;31mSyntaxError\u001b[0m\u001b[0;31m:\u001b[0m invalid syntax\n"
     ]
    }
   ],
   "source": [
    "# Be careful with double quote\n",
    "'I'am using single quote and this will throw error'"
   ]
  },
  {
   "cell_type": "code",
   "execution_count": null,
   "id": "69b296d8",
   "metadata": {},
   "outputs": [],
   "source": [
    "\"I'am using single quote and this will throw error\""
   ]
  },
  {
   "cell_type": "code",
   "execution_count": null,
   "id": "8f4846a3",
   "metadata": {},
   "outputs": [],
   "source": [
    "\"Hello World\""
   ]
  },
  {
   "cell_type": "code",
   "execution_count": null,
   "id": "49978475",
   "metadata": {},
   "outputs": [],
   "source": [
    "\"Hello world 1\"\n",
    "\"Hello world 2\""
   ]
  },
  {
   "cell_type": "code",
   "execution_count": null,
   "id": "e060a063",
   "metadata": {},
   "outputs": [],
   "source": [
    "print('Hello World 1')\n",
    "print('Hello World 2')\n",
    "print('Use \\n to print new line')\n",
    "print('\\n')\n",
    "print('See what i mean')"
   ]
  },
  {
   "cell_type": "code",
   "execution_count": null,
   "id": "666b4e25",
   "metadata": {},
   "outputs": [],
   "source": [
    "len('Hello World')"
   ]
  },
  {
   "cell_type": "code",
   "execution_count": null,
   "id": "02091eee",
   "metadata": {},
   "outputs": [],
   "source": [
    "s = 'Hello World'"
   ]
  },
  {
   "cell_type": "code",
   "execution_count": null,
   "id": "1d63e885",
   "metadata": {},
   "outputs": [],
   "source": [
    "s"
   ]
  },
  {
   "cell_type": "code",
   "execution_count": null,
   "id": "c761ad79",
   "metadata": {},
   "outputs": [],
   "source": [
    "s[0]"
   ]
  },
  {
   "cell_type": "code",
   "execution_count": null,
   "id": "750c3f8e",
   "metadata": {},
   "outputs": [],
   "source": [
    "s[1]"
   ]
  },
  {
   "cell_type": "code",
   "execution_count": null,
   "id": "8e01ae64",
   "metadata": {},
   "outputs": [],
   "source": [
    "s[2]"
   ]
  },
  {
   "cell_type": "code",
   "execution_count": null,
   "id": "c66115ec",
   "metadata": {},
   "outputs": [],
   "source": [
    "s[1:]"
   ]
  },
  {
   "cell_type": "code",
   "execution_count": null,
   "id": "0c48ceb7",
   "metadata": {},
   "outputs": [],
   "source": [
    "s"
   ]
  },
  {
   "cell_type": "code",
   "execution_count": null,
   "id": "fad8330b",
   "metadata": {},
   "outputs": [],
   "source": [
    "s[:3]"
   ]
  },
  {
   "cell_type": "code",
   "execution_count": null,
   "id": "e69b2448",
   "metadata": {},
   "outputs": [],
   "source": [
    "s[:]"
   ]
  },
  {
   "cell_type": "code",
   "execution_count": null,
   "id": "a18bf054",
   "metadata": {},
   "outputs": [],
   "source": [
    "s[-1]"
   ]
  },
  {
   "cell_type": "code",
   "execution_count": null,
   "id": "03062023",
   "metadata": {},
   "outputs": [],
   "source": [
    "s[:-1]"
   ]
  },
  {
   "cell_type": "code",
   "execution_count": null,
   "id": "cf8c6510",
   "metadata": {},
   "outputs": [],
   "source": [
    "s[::1]"
   ]
  },
  {
   "cell_type": "code",
   "execution_count": null,
   "id": "d75c2960",
   "metadata": {},
   "outputs": [],
   "source": [
    "s[::2]"
   ]
  },
  {
   "cell_type": "code",
   "execution_count": null,
   "id": "555a23ae",
   "metadata": {},
   "outputs": [],
   "source": [
    "s[::-1]"
   ]
  },
  {
   "cell_type": "code",
   "execution_count": null,
   "id": "0aafb47a",
   "metadata": {},
   "outputs": [],
   "source": [
    "s"
   ]
  },
  {
   "cell_type": "code",
   "execution_count": null,
   "id": "f8f99e72",
   "metadata": {},
   "outputs": [],
   "source": [
    "s[0] = 'x'"
   ]
  },
  {
   "cell_type": "code",
   "execution_count": null,
   "id": "34179716",
   "metadata": {},
   "outputs": [],
   "source": [
    "s"
   ]
  },
  {
   "cell_type": "code",
   "execution_count": null,
   "id": "ab2890a1",
   "metadata": {},
   "outputs": [],
   "source": [
    "s + ' Concatenante me'"
   ]
  },
  {
   "cell_type": "code",
   "execution_count": null,
   "id": "121e3f59",
   "metadata": {},
   "outputs": [],
   "source": [
    "s = s + ' Concatenante me'"
   ]
  },
  {
   "cell_type": "code",
   "execution_count": null,
   "id": "5d09f31e",
   "metadata": {},
   "outputs": [],
   "source": [
    "print(s)"
   ]
  },
  {
   "cell_type": "code",
   "execution_count": null,
   "id": "a06448e9",
   "metadata": {},
   "outputs": [],
   "source": [
    "d = s[:5]\n",
    "d"
   ]
  },
  {
   "cell_type": "code",
   "execution_count": null,
   "id": "0a70452c",
   "metadata": {},
   "outputs": [],
   "source": [
    "my_intro = d + ' Shivam'\n",
    "my_intro"
   ]
  },
  {
   "cell_type": "code",
   "execution_count": null,
   "id": "f1db97d2",
   "metadata": {},
   "outputs": [],
   "source": [
    "s.upper()"
   ]
  },
  {
   "cell_type": "code",
   "execution_count": null,
   "id": "54dc92d6",
   "metadata": {},
   "outputs": [],
   "source": [
    "s.lower()"
   ]
  },
  {
   "cell_type": "code",
   "execution_count": null,
   "id": "d732703a",
   "metadata": {},
   "outputs": [],
   "source": [
    "s.split()"
   ]
  },
  {
   "cell_type": "code",
   "execution_count": null,
   "id": "9defc375",
   "metadata": {},
   "outputs": [],
   "source": [
    "in_string = [50, 20]"
   ]
  },
  {
   "cell_type": "code",
   "execution_count": null,
   "id": "f83d549f",
   "metadata": {},
   "outputs": [],
   "source": [
    "in_string"
   ]
  },
  {
   "cell_type": "code",
   "execution_count": null,
   "id": "785db6f6",
   "metadata": {},
   "outputs": [],
   "source": [
    "my_list = in_string\n",
    "x = int(in_string[0])\n",
    "y = int(in_string[1])\n",
    "print(x)\n",
    "print(y)"
   ]
  },
  {
   "cell_type": "code",
   "execution_count": null,
   "id": "4e336315",
   "metadata": {},
   "outputs": [],
   "source": [
    "print(f\"x before swapping: {x}\")\n",
    "print(f\"y before swapping: {y}\")\n",
    "print()"
   ]
  },
  {
   "cell_type": "code",
   "execution_count": null,
   "id": "3d04bae0",
   "metadata": {},
   "outputs": [],
   "source": [
    "z = x\n",
    "x = y\n",
    "y = z\n",
    "print()"
   ]
  },
  {
   "cell_type": "code",
   "execution_count": null,
   "id": "6bb76df6",
   "metadata": {},
   "outputs": [],
   "source": [
    "print(f\"x after swapping: {x}\")\n",
    "print(f\"y after swapping: {y}\")\n"
   ]
  },
  {
   "cell_type": "code",
   "execution_count": null,
   "id": "c26af4fe",
   "metadata": {},
   "outputs": [],
   "source": [
    "a = 10\n",
    "b = 20 \n",
    "# Before swapping\n",
    "print(f\"a before swapping: {a}\")\n",
    "print(f\"b before swapping: {b}\")\n",
    "print()\n",
    "\n",
    "#write swapping code here\n",
    "a, b = b, a\n",
    "\n",
    "# After swapping\n",
    "print(f\"a after swapping: {a}\")\n",
    "print(f\"b after swapping: {b}\")\n"
   ]
  },
  {
   "cell_type": "code",
   "execution_count": null,
   "id": "c8999696",
   "metadata": {},
   "outputs": [],
   "source": [
    "num =6\n",
    "if num%2 == 0:\n",
    "    print(\"Even\")\n",
    "else: print(\"odd\")"
   ]
  },
  {
   "cell_type": "code",
   "execution_count": null,
   "id": "3f0adf24",
   "metadata": {},
   "outputs": [],
   "source": [
    "k= 21\n",
    "n = int(k/3)\n",
    "print(n)\n",
    "a = int(3n+1)\n",
    "print(a)\n",
    "# if k == (3n+1):\n",
    "#     print(beautiful)"
   ]
  },
  {
   "cell_type": "code",
   "execution_count": null,
   "id": "08fe612b",
   "metadata": {},
   "outputs": [],
   "source": [
    "input_list = [7,True]\n",
    "day_of_the_week = int(input_list[0]) #first element is an integer denoting the day of the week\n",
    "is_on_vacation = bool(input_list[1]) #this is a boolean denoting if its vacation or not\n",
    "def morning_alarm(day_of_the_week, is_on_vacation):\n",
    "    weekend = [6,7]\n",
    "    if is_on_vacation == True:\n",
    "        if day_of_the_week not in weekend:\n",
    "            return '10:00'\n",
    "        else: \n",
    "            return 'Off'\n",
    "    else: \n",
    "        if day_of_the_week not in weekend:\n",
    "            return '7:00'\n",
    "        else:\n",
    "            return '10:00'\n",
    "print(morning_alarm(day_of_the_week, is_on_vacation))"
   ]
  },
  {
   "cell_type": "code",
   "execution_count": null,
   "id": "4eab1c37",
   "metadata": {},
   "outputs": [],
   "source": [
    "import ast\n",
    "input_list = ast.literal_eval(input())\n",
    "days_of_the_week = input_list[0]\n",
    "is_on_vacation = input_list[1]\n",
    "weekend = [6,7]\n",
    "\n",
    "if is_on_vacation == True and days_of_the_week in weekend:\n",
    "    print('Off')\n",
    "elif is_on_vacation == True and days_of_the_week not in weekend:\n",
    "    print('10:00')\n",
    "elif is_on_vacation == False and days_of_the_week in weekend:\n",
    "    print('10:00')\n",
    "else:\n",
    "    print('7:00')\n"
   ]
  },
  {
   "cell_type": "code",
   "execution_count": null,
   "id": "ce3db1a3",
   "metadata": {},
   "outputs": [],
   "source": [
    "((500//7)%5)**3"
   ]
  },
  {
   "cell_type": "code",
   "execution_count": null,
   "id": "3ccf021a",
   "metadata": {},
   "outputs": [],
   "source": [
    "T = (3, 5, 7, 11)\n",
    "T.append(9)"
   ]
  },
  {
   "cell_type": "code",
   "execution_count": null,
   "id": "ffd8a93c",
   "metadata": {},
   "outputs": [],
   "source": [
    "D = {1:['Raj', 22], 2:['Simran', 21], 3:['Rahul', 40]}\n",
    "for val in D:\n",
    "     print(val)"
   ]
  },
  {
   "cell_type": "code",
   "execution_count": null,
   "id": "7deb86bd",
   "metadata": {},
   "outputs": [],
   "source": [
    "paragraph = comprehension equivalent\n",
    "for sentence in paragraph:\n",
    "    for word in sentence.split():\n",
    "        single_word_list.append(word)"
   ]
  },
  {
   "cell_type": "code",
   "execution_count": null,
   "id": "03d1e727",
   "metadata": {},
   "outputs": [],
   "source": [
    "print(list(range(1, 10, 1)))"
   ]
  },
  {
   "cell_type": "code",
   "execution_count": null,
   "id": "96798d46",
   "metadata": {},
   "outputs": [],
   "source": [
    "L1 = ['Vikas', 'Akshay', 'Sanskar', 'Mahima']\n",
    "print(L1[1][-1])"
   ]
  },
  {
   "cell_type": "code",
   "execution_count": null,
   "id": "48905c33",
   "metadata": {},
   "outputs": [],
   "source": [
    "l = [32, 34, 12, 27, 33]\n",
    "l.append(14)\n",
    "print(len(l))"
   ]
  },
  {
   "cell_type": "code",
   "execution_count": null,
   "id": "09c8fa61",
   "metadata": {},
   "outputs": [],
   "source": [
    "number = int(input())\n",
    "if number == 0:\n",
    "    print(1)\n",
    "elif number < 0:\n",
    "    print(-1)\n",
    "else: \n",
    "    f = 1\n",
    "    for i in range(1, number+1):\n",
    "        f = f*i\n",
    "    print(f)"
   ]
  },
  {
   "cell_type": "code",
   "execution_count": null,
   "id": "fab927b7",
   "metadata": {},
   "outputs": [],
   "source": [
    "n = int(input())\n",
    "\n",
    "#the function definition starts here\n",
    "def factorial(n):\n",
    "    #write the funtion here that finds and RETURNS factorial of next\n",
    "    if n == 0:\n",
    "        return 1\n",
    "    elif n < 0:\n",
    "        return -1\n",
    "    else: \n",
    "        f = 1\n",
    "        for i in range(1, n+1):\n",
    "            f = f*i\n",
    "        return f\n",
    "k = factorial(n)\n",
    "print(k)"
   ]
  },
  {
   "cell_type": "code",
   "execution_count": 33,
   "id": "080c7ca6",
   "metadata": {},
   "outputs": [
    {
     "name": "stdout",
     "output_type": "stream",
     "text": [
      "890\n",
      "98\n"
     ]
    }
   ],
   "source": [
    "n = input()\n",
    "reverse_number = int(n[::-1])\n",
    "print(reverse_number)\n",
    "    "
   ]
  },
  {
   "cell_type": "code",
   "execution_count": 30,
   "id": "e12102e4",
   "metadata": {},
   "outputs": [
    {
     "name": "stdout",
     "output_type": "stream",
     "text": [
      "543\n",
      "543\n"
     ]
    }
   ],
   "source": [
    "num = input()\n",
    "reverse_num = num\n",
    "print(int(reverse_num))"
   ]
  },
  {
   "cell_type": "code",
   "execution_count": null,
   "id": "6dd1e9c7",
   "metadata": {},
   "outputs": [],
   "source": [
    "n = int(input())\n",
    "r = 0\n",
    "while n>0:\n",
    "    r = r*10 + n%10\n",
    "    n = n//10\n",
    "print(r)"
   ]
  },
  {
   "cell_type": "code",
   "execution_count": 40,
   "id": "0441c7ea",
   "metadata": {},
   "outputs": [
    {
     "name": "stdout",
     "output_type": "stream",
     "text": [
      "15,2\n",
      "10\n"
     ]
    }
   ],
   "source": [
    "in_list = input().split(',')\n",
    "m = int(in_list[0])\n",
    "c = int(in_list[1])\n",
    "\n",
    "choc = m//c\n",
    "w = m//c\n",
    "\n",
    "r = 3\n",
    "while w//r != 0:\n",
    "    choc += w//r\n",
    "    w = w//r + w%r\n",
    "\n",
    "print(choc)"
   ]
  },
  {
   "cell_type": "code",
   "execution_count": 41,
   "id": "22dd825b",
   "metadata": {},
   "outputs": [
    {
     "name": "stdout",
     "output_type": "stream",
     "text": [
      " "
     ]
    }
   ],
   "source": [
    "print(' ', end='')"
   ]
  },
  {
   "cell_type": "code",
   "execution_count": null,
   "id": "f1f7363d",
   "metadata": {},
   "outputs": [],
   "source": [
    "n = int(input())\n",
    "for i in range(1,n+1):\n",
    "    for j in range(n-i):\n",
    "        print(\" \",end=\"\")\n",
    "    for k in range(i-1):\n",
    "        print(\"*_\",end=\"\")\n",
    "    print('*')"
   ]
  },
  {
   "cell_type": "code",
   "execution_count": 58,
   "id": "49ea3b82",
   "metadata": {},
   "outputs": [
    {
     "data": {
      "text/plain": [
       "[45, 35, 25, 10, 20, 30]"
      ]
     },
     "execution_count": 58,
     "metadata": {},
     "output_type": "execute_result"
    }
   ],
   "source": [
    "A = [10, 20, 30]\n",
    "B = [45, 35, 25]\n",
    "B.extend(A)\n",
    "B"
   ]
  },
  {
   "cell_type": "code",
   "execution_count": 57,
   "id": "c76eb299",
   "metadata": {},
   "outputs": [
    {
     "data": {
      "text/plain": [
       "[None, None, None]"
      ]
     },
     "execution_count": 57,
     "metadata": {},
     "output_type": "execute_result"
    }
   ],
   "source": [
    "[A.append(i) for i in B]"
   ]
  },
  {
   "cell_type": "code",
   "execution_count": null,
   "id": "cf2caa0f",
   "metadata": {},
   "outputs": [],
   "source": []
  },
  {
   "cell_type": "code",
   "execution_count": 1,
   "id": "0f906b38",
   "metadata": {},
   "outputs": [
    {
     "name": "stdout",
     "output_type": "stream",
     "text": [
      "Writing file.txt\n"
     ]
    }
   ],
   "source": [
    "%%writefile file.txt\n",
    "Hello this is a text file\n",
    "this is the second like\n",
    "this is the third line"
   ]
  },
  {
   "cell_type": "code",
   "execution_count": 2,
   "id": "997c4062",
   "metadata": {},
   "outputs": [],
   "source": [
    "myfile = open(\"file.txt\")"
   ]
  },
  {
   "cell_type": "code",
   "execution_count": 4,
   "id": "75ab6965",
   "metadata": {},
   "outputs": [
    {
     "ename": "FileNotFoundError",
     "evalue": "[Errno 2] No such file or directory: 'myfile.txt'",
     "output_type": "error",
     "traceback": [
      "\u001b[0;31m---------------------------------------------------------------------------\u001b[0m",
      "\u001b[0;31mFileNotFoundError\u001b[0m                         Traceback (most recent call last)",
      "\u001b[0;32m/var/folders/9t/0rf19dxs4xb82c79_12x19ph0000gn/T/ipykernel_2769/3148737622.py\u001b[0m in \u001b[0;36m<module>\u001b[0;34m\u001b[0m\n\u001b[0;32m----> 1\u001b[0;31m \u001b[0mmyfile\u001b[0m \u001b[0;34m=\u001b[0m \u001b[0mopen\u001b[0m\u001b[0;34m(\u001b[0m\u001b[0;34m\"myfile.txt\"\u001b[0m\u001b[0;34m)\u001b[0m\u001b[0;34m\u001b[0m\u001b[0;34m\u001b[0m\u001b[0m\n\u001b[0m",
      "\u001b[0;31mFileNotFoundError\u001b[0m: [Errno 2] No such file or directory: 'myfile.txt'"
     ]
    }
   ],
   "source": [
    "myfile = open(\"myfile.txt\")"
   ]
  },
  {
   "cell_type": "code",
   "execution_count": 5,
   "id": "62c29074",
   "metadata": {},
   "outputs": [
    {
     "data": {
      "text/plain": [
       "'/Users/shivamjha/DataScience/dslab/00-Python Object and Data Structure Basics'"
      ]
     },
     "execution_count": 5,
     "metadata": {},
     "output_type": "execute_result"
    }
   ],
   "source": [
    "pwd"
   ]
  },
  {
   "cell_type": "code",
   "execution_count": 6,
   "id": "54387d81",
   "metadata": {},
   "outputs": [],
   "source": [
    "myfile = open(\"file.txt\")"
   ]
  },
  {
   "cell_type": "code",
   "execution_count": 7,
   "id": "fb5855ae",
   "metadata": {},
   "outputs": [
    {
     "data": {
      "text/plain": [
       "'Hello this is a text file\\nthis is the second like\\nthis is the third line\\n'"
      ]
     },
     "execution_count": 7,
     "metadata": {},
     "output_type": "execute_result"
    }
   ],
   "source": [
    "myfile.read()"
   ]
  },
  {
   "cell_type": "code",
   "execution_count": 8,
   "id": "9fd1743f",
   "metadata": {},
   "outputs": [
    {
     "data": {
      "text/plain": [
       "''"
      ]
     },
     "execution_count": 8,
     "metadata": {},
     "output_type": "execute_result"
    }
   ],
   "source": [
    "myfile.read()"
   ]
  },
  {
   "cell_type": "code",
   "execution_count": 9,
   "id": "b0161636",
   "metadata": {},
   "outputs": [
    {
     "data": {
      "text/plain": [
       "0"
      ]
     },
     "execution_count": 9,
     "metadata": {},
     "output_type": "execute_result"
    }
   ],
   "source": [
    "myfile.seek(0)"
   ]
  },
  {
   "cell_type": "code",
   "execution_count": 10,
   "id": "c612dda2",
   "metadata": {},
   "outputs": [
    {
     "data": {
      "text/plain": [
       "'Hello this is a text file\\nthis is the second like\\nthis is the third line\\n'"
      ]
     },
     "execution_count": 10,
     "metadata": {},
     "output_type": "execute_result"
    }
   ],
   "source": [
    "myfile.read()"
   ]
  },
  {
   "cell_type": "code",
   "execution_count": 11,
   "id": "047b5983",
   "metadata": {},
   "outputs": [
    {
     "data": {
      "text/plain": [
       "''"
      ]
     },
     "execution_count": 11,
     "metadata": {},
     "output_type": "execute_result"
    }
   ],
   "source": [
    "myfile.read()"
   ]
  },
  {
   "cell_type": "code",
   "execution_count": 12,
   "id": "eebde0ef",
   "metadata": {},
   "outputs": [
    {
     "data": {
      "text/plain": [
       "0"
      ]
     },
     "execution_count": 12,
     "metadata": {},
     "output_type": "execute_result"
    }
   ],
   "source": [
    "myfile.seek(0)"
   ]
  },
  {
   "cell_type": "code",
   "execution_count": 13,
   "id": "b1689f72",
   "metadata": {},
   "outputs": [],
   "source": [
    "contents = myfile.read()"
   ]
  },
  {
   "cell_type": "code",
   "execution_count": 14,
   "id": "ef49c93e",
   "metadata": {},
   "outputs": [
    {
     "data": {
      "text/plain": [
       "'Hello this is a text file\\nthis is the second like\\nthis is the third line\\n'"
      ]
     },
     "execution_count": 14,
     "metadata": {},
     "output_type": "execute_result"
    }
   ],
   "source": [
    "contents"
   ]
  },
  {
   "cell_type": "code",
   "execution_count": 40,
   "id": "bbb54fe1",
   "metadata": {},
   "outputs": [],
   "source": [
    "player = 'Thomas'\n",
    "points = 33"
   ]
  },
  {
   "cell_type": "code",
   "execution_count": 45,
   "id": "ddb23321",
   "metadata": {},
   "outputs": [
    {
     "data": {
      "text/plain": [
       "'las night,Thomas scored 33 points'"
      ]
     },
     "execution_count": 45,
     "metadata": {},
     "output_type": "execute_result"
    }
   ],
   "source": [
    "'last night,'+player+' scored '+str(points)+' points'"
   ]
  },
  {
   "cell_type": "code",
   "execution_count": 52,
   "id": "a2df4e45",
   "metadata": {},
   "outputs": [],
   "source": [
    "id = 12345\n",
    "first_name = 'Shivam'\n",
    "last_name = 'Jha'\n"
   ]
  },
  {
   "cell_type": "code",
   "execution_count": 53,
   "id": "ce20020c",
   "metadata": {},
   "outputs": [
    {
     "data": {
      "text/plain": [
       "'My first name is Shivam and last name is Jha and my id is: 12345'"
      ]
     },
     "execution_count": 53,
     "metadata": {},
     "output_type": "execute_result"
    }
   ],
   "source": [
    "'My first name is '+first_name+' and last name is '+last_name+' and my id is: '+str(id)+''"
   ]
  },
  {
   "cell_type": "code",
   "execution_count": 57,
   "id": "dc41c9d3",
   "metadata": {},
   "outputs": [
    {
     "name": "stdout",
     "output_type": "stream",
     "text": [
      "I'am going to inject something here.\n"
     ]
    }
   ],
   "source": [
    "print(\"I'am going to inject %s here.\" %'something')"
   ]
  },
  {
   "cell_type": "code",
   "execution_count": 60,
   "id": "97c72f75",
   "metadata": {},
   "outputs": [
    {
     "name": "stdout",
     "output_type": "stream",
     "text": [
      "My name is Shivam Jha\n"
     ]
    }
   ],
   "source": [
    "print(\"My name is %s Jha\" %'Shivam')"
   ]
  },
  {
   "cell_type": "code",
   "execution_count": 61,
   "id": "a5080376",
   "metadata": {},
   "outputs": [
    {
     "name": "stdout",
     "output_type": "stream",
     "text": [
      "I'am going to inject some text here, and more text here.\n"
     ]
    }
   ],
   "source": [
    "print(\"I'am going to inject %s text here, and %s text here.\" %('some', 'more'))"
   ]
  },
  {
   "cell_type": "code",
   "execution_count": 63,
   "id": "57f2e521",
   "metadata": {},
   "outputs": [
    {
     "name": "stdout",
     "output_type": "stream",
     "text": [
      "I am working in TCS as Software Engineer\n"
     ]
    }
   ],
   "source": [
    "print(\"I am working in %s as %s\" %(\"TCS\",\"Software Engineer\"))"
   ]
  },
  {
   "cell_type": "code",
   "execution_count": 64,
   "id": "a84b8934",
   "metadata": {},
   "outputs": [
    {
     "name": "stdout",
     "output_type": "stream",
     "text": [
      "I am going to inject some text here, some more text heere\n"
     ]
    }
   ],
   "source": [
    "x, y = 'some', 'more'\n",
    "print(\"I am going to inject %s text here, some %s text heere\" %(x,y))"
   ]
  },
  {
   "cell_type": "code",
   "execution_count": 65,
   "id": "da0697dc",
   "metadata": {},
   "outputs": [
    {
     "name": "stdout",
     "output_type": "stream",
     "text": [
      "He said his name was Fred.\n",
      "He said his name was 'Fred'.\n"
     ]
    }
   ],
   "source": [
    "print('He said his name was %s.' %'Fred')\n",
    "print('He said his name was %r.' %'Fred')"
   ]
  },
  {
   "cell_type": "code",
   "execution_count": 87,
   "id": "accc9170",
   "metadata": {},
   "outputs": [
    {
     "name": "stdout",
     "output_type": "stream",
     "text": [
      "He said his name is Shivam.\n"
     ]
    }
   ],
   "source": [
    "print('He said his name is %s.' %'Shivam')"
   ]
  },
  {
   "cell_type": "code",
   "execution_count": 68,
   "id": "6f63890e",
   "metadata": {},
   "outputs": [
    {
     "name": "stdout",
     "output_type": "stream",
     "text": [
      "He said his name is 'Shivam Jha'.\n"
     ]
    }
   ],
   "source": [
    "print('He said his name is %r.' %'Shivam Jha')"
   ]
  },
  {
   "cell_type": "code",
   "execution_count": 77,
   "id": "258c06be",
   "metadata": {},
   "outputs": [
    {
     "name": "stdout",
     "output_type": "stream",
     "text": [
      "He biiger than \tme.\n"
     ]
    }
   ],
   "source": [
    "print('He biiger than %s.' %'\\tme')"
   ]
  },
  {
   "cell_type": "code",
   "execution_count": 84,
   "id": "345d30e3",
   "metadata": {},
   "outputs": [
    {
     "name": "stdout",
     "output_type": "stream",
     "text": [
      "His number is 7.25.\n"
     ]
    }
   ],
   "source": [
    "print('His number is %s.' %7.25)"
   ]
  },
  {
   "cell_type": "code",
   "execution_count": 85,
   "id": "2e8dae60",
   "metadata": {},
   "outputs": [
    {
     "name": "stdout",
     "output_type": "stream",
     "text": [
      "His number is 7.\n"
     ]
    }
   ],
   "source": [
    "print('His number is %d.' %7.25)"
   ]
  },
  {
   "cell_type": "code",
   "execution_count": 14,
   "id": "30d3066a",
   "metadata": {},
   "outputs": [
    {
     "ename": "TypeError",
     "evalue": "int() argument must be a string, a bytes-like object or a number, not 'list'",
     "output_type": "error",
     "traceback": [
      "\u001b[0;31m---------------------------------------------------------------------------\u001b[0m",
      "\u001b[0;31mTypeError\u001b[0m                                 Traceback (most recent call last)",
      "\u001b[0;32m/var/folders/9t/0rf19dxs4xb82c79_12x19ph0000gn/T/ipykernel_7875/2944993726.py\u001b[0m in \u001b[0;36m<module>\u001b[0;34m\u001b[0m\n\u001b[1;32m      1\u001b[0m \u001b[0;32mimport\u001b[0m \u001b[0mast\u001b[0m\u001b[0;34m\u001b[0m\u001b[0;34m\u001b[0m\u001b[0m\n\u001b[0;32m----> 2\u001b[0;31m \u001b[0minput_list\u001b[0m \u001b[0;34m=\u001b[0m \u001b[0mint\u001b[0m\u001b[0;34m(\u001b[0m\u001b[0;34m[\u001b[0m\u001b[0;36m1\u001b[0m\u001b[0;34m,\u001b[0m\u001b[0;36m3\u001b[0m\u001b[0;34m,\u001b[0m\u001b[0;36m5\u001b[0m\u001b[0;34m,\u001b[0m\u001b[0;34m-\u001b[0m\u001b[0;36m2\u001b[0m\u001b[0;34m,\u001b[0m\u001b[0;36m6\u001b[0m\u001b[0;34m,\u001b[0m\u001b[0;36m10\u001b[0m\u001b[0;34m]\u001b[0m\u001b[0;34m)\u001b[0m\u001b[0;34m\u001b[0m\u001b[0;34m\u001b[0m\u001b[0m\n\u001b[0m\u001b[1;32m      3\u001b[0m \u001b[0;34m\u001b[0m\u001b[0m\n\u001b[1;32m      4\u001b[0m \u001b[0;31m#start writing your code here\u001b[0m\u001b[0;34m\u001b[0m\u001b[0;34m\u001b[0m\u001b[0m\n\u001b[1;32m      5\u001b[0m \u001b[0;34m\u001b[0m\u001b[0m\n",
      "\u001b[0;31mTypeError\u001b[0m: int() argument must be a string, a bytes-like object or a number, not 'list'"
     ]
    }
   ],
   "source": [
    "import ast\n",
    "input_list = [1,3,5,-2,6,10]\n",
    "\n",
    "#start writing your code here\n",
    "\n",
    "if len(input_list) == 0:\n",
    "    print(\"List is empty\")\n",
    "else: \n",
    "    max_val = input_list[0]\n",
    "    for item in input_list:\n",
    "        if item[0::2] > max_val:\n",
    "            max_val = item\n",
    "    print(max_val)"
   ]
  },
  {
   "cell_type": "code",
   "execution_count": 22,
   "id": "74719a5f",
   "metadata": {},
   "outputs": [
    {
     "data": {
      "text/plain": [
       "1"
      ]
     },
     "execution_count": 22,
     "metadata": {},
     "output_type": "execute_result"
    }
   ],
   "source": [
    "import ast\n",
    "input_list1 = [1,3,5,-2,6,10,11]\n",
    "sorted(input_list1)\n",
    "Max = input_list1[0]\n",
    "Max"
   ]
  },
  {
   "cell_type": "code",
   "execution_count": null,
   "id": "4fbda806",
   "metadata": {},
   "outputs": [],
   "source": [
    "input_list = [4,3,8,-2,14,10,11]"
   ]
  },
  {
   "cell_type": "code",
   "execution_count": null,
   "id": "d6244b7c",
   "metadata": {},
   "outputs": [],
   "source": []
  },
  {
   "cell_type": "code",
   "execution_count": 29,
   "id": "36ef21e3",
   "metadata": {},
   "outputs": [
    {
     "name": "stdout",
     "output_type": "stream",
     "text": [
      "It is not true\n"
     ]
    }
   ],
   "source": [
    "if 3 < 2:\n",
    "    print('Its True!')\n",
    "else:\n",
    "    print('It is not true')"
   ]
  },
  {
   "cell_type": "code",
   "execution_count": 32,
   "id": "715c2dc0",
   "metadata": {},
   "outputs": [
    {
     "name": "stdout",
     "output_type": "stream",
     "text": [
      "Not hungry\n"
     ]
    }
   ],
   "source": [
    "hungry = False\n",
    "\n",
    "if hungry:\n",
    "    print('Feed Me!')\n",
    "else:\n",
    "    print('Not hungry')"
   ]
  },
  {
   "cell_type": "code",
   "execution_count": 34,
   "id": "d1f0a40d",
   "metadata": {},
   "outputs": [
    {
     "name": "stdout",
     "output_type": "stream",
     "text": [
      "I play there\n"
     ]
    }
   ],
   "source": [
    "place = 'Park'\n",
    "\n",
    "if place == 'school':\n",
    "    print(\"I study there\")\n",
    "elif place == 'Park':\n",
    "    print('I play there')\n",
    "else: \n",
    "    print(\"Don't know what to do!\")"
   ]
  },
  {
   "cell_type": "code",
   "execution_count": 37,
   "id": "a53b72d8",
   "metadata": {},
   "outputs": [
    {
     "name": "stdout",
     "output_type": "stream",
     "text": [
      "What's your name?\n"
     ]
    }
   ],
   "source": [
    "name = 'Jose'\n",
    "\n",
    "if name == 'Ravi':\n",
    "    print('Hello Ravi!')\n",
    "elif name == 'Shivam Jha':\n",
    "    print('Hello Shivam Jha!')\n",
    "else: \n",
    "    print(\"What's your name?\")"
   ]
  },
  {
   "cell_type": "code",
   "execution_count": 38,
   "id": "2818d1ba",
   "metadata": {},
   "outputs": [
    {
     "name": "stdout",
     "output_type": "stream",
     "text": [
      "3\n"
     ]
    }
   ],
   "source": [
    "print(chr(51))"
   ]
  },
  {
   "cell_type": "code",
   "execution_count": 45,
   "id": "4db5bc5e",
   "metadata": {},
   "outputs": [
    {
     "data": {
      "text/plain": [
       "'upGrad'"
      ]
     },
     "execution_count": 45,
     "metadata": {},
     "output_type": "execute_result"
    }
   ],
   "source": [
    "\n",
    "s='aabupGradaab'.strip('a').strip('b').strip('a')\n",
    "s"
   ]
  },
  {
   "cell_type": "code",
   "execution_count": 50,
   "id": "9f17a31a",
   "metadata": {},
   "outputs": [
    {
     "name": "stdout",
     "output_type": "stream",
     "text": [
      "1\n",
      "2\n",
      "3\n"
     ]
    }
   ],
   "source": [
    "my_iterable = [1,2,3]\n",
    "for item_name in my_iterable:\n",
    "    print(item_name)"
   ]
  },
  {
   "cell_type": "code",
   "execution_count": 51,
   "id": "908d438a",
   "metadata": {},
   "outputs": [
    {
     "name": "stdout",
     "output_type": "stream",
     "text": [
      "1\n",
      "2\n",
      "3\n",
      "4\n",
      "5\n",
      "6\n",
      "7\n",
      "8\n",
      "9\n",
      "10\n"
     ]
    }
   ],
   "source": [
    "mylist = [1,2,3,4,5,6,7,8,9,10]\n",
    "for num in mylist:\n",
    "    print(num)"
   ]
  },
  {
   "cell_type": "code",
   "execution_count": 70,
   "id": "23d76cda",
   "metadata": {},
   "outputs": [
    {
     "name": "stdout",
     "output_type": "stream",
     "text": [
      "odd number:1\n",
      "This is even number: 2\n",
      "odd number:3\n",
      "This is even number: 4\n",
      "odd number:5\n",
      "This is even number: 6\n",
      "odd number:7\n",
      "This is even number: 8\n",
      "odd number:9\n",
      "This is even number: 10\n"
     ]
    }
   ],
   "source": [
    "for num in mylist:\n",
    "    if num%2 == 0:\n",
    "        print(f'This is even number: {num}')\n",
    "    else:\n",
    "        print(f'odd number:{num}')"
   ]
  },
  {
   "cell_type": "code",
   "execution_count": 74,
   "id": "cdbf239f",
   "metadata": {},
   "outputs": [
    {
     "name": "stdout",
     "output_type": "stream",
     "text": [
      "55\n"
     ]
    }
   ],
   "source": [
    "list_sum = 0\n",
    "for num in mylist:\n",
    "    list_sum = list_sum + num\n",
    "print(list_sum)"
   ]
  },
  {
   "cell_type": "code",
   "execution_count": 76,
   "id": "e2086483",
   "metadata": {},
   "outputs": [
    {
     "name": "stdout",
     "output_type": "stream",
     "text": [
      "H\n",
      "e\n",
      "l\n",
      "l\n",
      "o\n",
      " \n",
      "S\n",
      "h\n",
      "i\n",
      "v\n",
      "a\n",
      "m\n"
     ]
    }
   ],
   "source": [
    "for letter in \"Hello Shivam\":\n",
    "    print(letter)"
   ]
  },
  {
   "cell_type": "code",
   "execution_count": 77,
   "id": "5276df59",
   "metadata": {},
   "outputs": [
    {
     "name": "stdout",
     "output_type": "stream",
     "text": [
      "1\n",
      "2\n",
      "3\n"
     ]
    }
   ],
   "source": [
    "tup = (1,2,3)\n",
    "for i in tup:\n",
    "    print(i)"
   ]
  },
  {
   "cell_type": "code",
   "execution_count": 84,
   "id": "6d426d05",
   "metadata": {},
   "outputs": [
    {
     "name": "stdout",
     "output_type": "stream",
     "text": [
      "2\n",
      "4\n",
      "6\n",
      "8\n"
     ]
    }
   ],
   "source": [
    "my_list = [(1,2),(3,4),(5,6),(7,8)]\n",
    "\n",
    "for a,b in my_list:\n",
    "    print(b)\n",
    "    "
   ]
  },
  {
   "cell_type": "code",
   "execution_count": 92,
   "id": "d376f817",
   "metadata": {},
   "outputs": [
    {
     "name": "stdout",
     "output_type": "stream",
     "text": [
      "11\n",
      "12\n",
      "13\n",
      "14\n"
     ]
    }
   ],
   "source": [
    "my_list1 = [(1,2,11),(3,4,12),(5,6,13),(7,8,14)]\n",
    "len(my_list1)\n",
    "for a,b,c in my_list1:\n",
    "    print(c)"
   ]
  },
  {
   "cell_type": "code",
   "execution_count": 104,
   "id": "3b93b5b7",
   "metadata": {},
   "outputs": [
    {
     "name": "stdout",
     "output_type": "stream",
     "text": [
      "1\n",
      "2\n",
      "3\n"
     ]
    }
   ],
   "source": [
    "d = {'k1':1,'k2':2,'k3':3}\n",
    "\n",
    "for key,value in d.items():\n",
    "    print(value)"
   ]
  },
  {
   "cell_type": "code",
   "execution_count": 111,
   "id": "33cbce97",
   "metadata": {},
   "outputs": [
    {
     "name": "stdout",
     "output_type": "stream",
     "text": [
      "('k1', 1)\n",
      "('k2', 2)\n",
      "('k3', 3)\n"
     ]
    }
   ],
   "source": [
    "d1 = {'k4':4,'k5':5,'k6':6}\n",
    "\n",
    "for key in d.items():\n",
    "    print(key)"
   ]
  },
  {
   "cell_type": "code",
   "execution_count": null,
   "id": "73fbed47",
   "metadata": {},
   "outputs": [],
   "source": [
    "def cube(n) :\n",
    "    return (n*(n+1)//2)**2\n",
    "n=int(input(\"enter N: \"))\n",
    "print(\"Sum of cubes of first {} natural numbers: \".format(n),Cube(n))"
   ]
  },
  {
   "cell_type": "code",
   "execution_count": 112,
   "id": "3e289f74",
   "metadata": {},
   "outputs": [
    {
     "name": "stdout",
     "output_type": "stream",
     "text": [
      "3\n",
      "4\n",
      "91\n"
     ]
    }
   ],
   "source": [
    "x = int(input())\n",
    "y = int(input())\n",
    "z = x**3+y**3\n",
    "print(z)"
   ]
  },
  {
   "cell_type": "code",
   "execution_count": 115,
   "id": "bb208d55",
   "metadata": {},
   "outputs": [
    {
     "name": "stdout",
     "output_type": "stream",
     "text": [
      " 2   3   5   7   11   13   17   19   23   29   31   37   41   43   47   53   59   61   67   71   73   79   83   89   97  "
     ]
    }
   ],
   "source": [
    "first_number = int(1)\n",
    "last_number = int(100)\n",
    "\n",
    "for prime_Number in range (first_number, last_number + 1):\n",
    "    count = 0\n",
    "    for i in range(2, (prime_Number//2 + 1)):\n",
    "        if(prime_Number % i == 0):\n",
    "            count = count + 1\n",
    "            break\n",
    "\n",
    "    if (count == 0 and prime_Number != 1):\n",
    "        print(\" %d\" %prime_Number, end = '  ')"
   ]
  },
  {
   "cell_type": "code",
   "execution_count": 116,
   "id": "7b903516",
   "metadata": {},
   "outputs": [
    {
     "name": "stdout",
     "output_type": "stream",
     "text": [
      "2\n",
      "3\n",
      "5\n",
      "7\n",
      "11\n",
      "13\n",
      "17\n",
      "19\n",
      "23\n",
      "29\n",
      "31\n",
      "37\n",
      "41\n",
      "43\n",
      "47\n",
      "53\n",
      "59\n",
      "61\n",
      "67\n",
      "71\n",
      "73\n",
      "79\n",
      "83\n",
      "89\n",
      "97\n"
     ]
    }
   ],
   "source": [
    "x = 1\n",
    "y= 100\n",
    "for num in range(x,y + 1):\n",
    "   if num > 1:\n",
    "       for i in range(2, num):\n",
    "           if (num % i) == 0:\n",
    "               break\n",
    "       else:\n",
    "           print(num)"
   ]
  },
  {
   "cell_type": "code",
   "execution_count": 125,
   "id": "5c4803c7",
   "metadata": {},
   "outputs": [
    {
     "name": "stdout",
     "output_type": "stream",
     "text": [
      "1234\n",
      "this is not a armstrong number\n"
     ]
    }
   ],
   "source": [
    "number = int(input())\n",
    "add_number = 0\n",
    "while number!=0:\n",
    "    k = number%10\n",
    "    add_number +=k*k*k\n",
    "    number = number//10\n",
    "if add_number==number:\n",
    "    print('This is armstrong number')\n",
    "else:\n",
    "    print('this is not a armstrong number')"
   ]
  },
  {
   "cell_type": "code",
   "execution_count": 131,
   "id": "090d44e2",
   "metadata": {},
   "outputs": [
    {
     "name": "stdout",
     "output_type": "stream",
     "text": [
      "X is not less than 5\n"
     ]
    }
   ],
   "source": [
    "x = 10\n",
    "\n",
    "while x < 5:\n",
    "    print(f'The current value of x is {x}')\n",
    "    x += 1\n",
    "    \n",
    "else: \n",
    "    print('X is not less than 5')"
   ]
  },
  {
   "cell_type": "code",
   "execution_count": 137,
   "id": "8776a928",
   "metadata": {},
   "outputs": [
    {
     "name": "stdout",
     "output_type": "stream",
     "text": [
      "1\n",
      "2\n",
      "3\n",
      "4\n"
     ]
    }
   ],
   "source": [
    "x = 1\n",
    "while x < 10:\n",
    "    \n",
    "    if x == 5:\n",
    "        break\n",
    "    print(x)  \n",
    "    x += 1"
   ]
  },
  {
   "cell_type": "code",
   "execution_count": 143,
   "id": "5b5f838e",
   "metadata": {},
   "outputs": [
    {
     "name": "stdout",
     "output_type": "stream",
     "text": [
      "3\n",
      "5\n",
      "7\n",
      "9\n"
     ]
    }
   ],
   "source": [
    "for num in range(3,11,2):\n",
    "    print(num)"
   ]
  },
  {
   "cell_type": "code",
   "execution_count": 144,
   "id": "9fdb4b69",
   "metadata": {},
   "outputs": [
    {
     "data": {
      "text/plain": [
       "[3, 4, 5, 6, 7, 8, 9, 10]"
      ]
     },
     "execution_count": 144,
     "metadata": {},
     "output_type": "execute_result"
    }
   ],
   "source": [
    "list(range(3,11))"
   ]
  },
  {
   "cell_type": "code",
   "execution_count": 151,
   "id": "953837fd",
   "metadata": {},
   "outputs": [
    {
     "name": "stdout",
     "output_type": "stream",
     "text": [
      "Index count at 0 is letter: a\n",
      "Index count at 1 is letter: b\n",
      "Index count at 2 is letter: c\n",
      "Index count at 3 is letter: d\n",
      "Index count at 4 is letter: e\n",
      "Index count at 5 is letter: f\n"
     ]
    }
   ],
   "source": [
    "index_count = 0\n",
    "\n",
    "for letter in 'abcdef':\n",
    "    print('Index count at {} is letter: {}'.format(index_count,letter))\n",
    "    index_count += 1"
   ]
  },
  {
   "cell_type": "code",
   "execution_count": 155,
   "id": "c697bb46",
   "metadata": {},
   "outputs": [
    {
     "name": "stdout",
     "output_type": "stream",
     "text": [
      "a\n",
      "b\n",
      "c\n",
      "d\n",
      "e\n",
      "f\n"
     ]
    }
   ],
   "source": [
    "index_count1 = 0\n",
    "word = 'abcdef'\n",
    "\n",
    "for letter in word:\n",
    "    print(word[index_count1])\n",
    "    index_count1 +=1\n"
   ]
  },
  {
   "cell_type": "code",
   "execution_count": 1,
   "id": "f468216b",
   "metadata": {},
   "outputs": [],
   "source": [
    "mylist = [10,20,30,40,100]"
   ]
  },
  {
   "cell_type": "code",
   "execution_count": 2,
   "id": "37454f8c",
   "metadata": {},
   "outputs": [
    {
     "data": {
      "text/plain": [
       "10"
      ]
     },
     "execution_count": 2,
     "metadata": {},
     "output_type": "execute_result"
    }
   ],
   "source": [
    "min(mylist)"
   ]
  },
  {
   "cell_type": "code",
   "execution_count": 3,
   "id": "ed072631",
   "metadata": {},
   "outputs": [
    {
     "data": {
      "text/plain": [
       "100"
      ]
     },
     "execution_count": 3,
     "metadata": {},
     "output_type": "execute_result"
    }
   ],
   "source": [
    "max(mylist)"
   ]
  },
  {
   "cell_type": "code",
   "execution_count": 4,
   "id": "3e5da41c",
   "metadata": {},
   "outputs": [],
   "source": [
    "from random import shuffle"
   ]
  },
  {
   "cell_type": "code",
   "execution_count": 5,
   "id": "0bcf78e7",
   "metadata": {},
   "outputs": [],
   "source": [
    "mylist = [1,2,3,4,5,6,7,8,9,11,12,13]"
   ]
  },
  {
   "cell_type": "code",
   "execution_count": 6,
   "id": "a7446dc8",
   "metadata": {},
   "outputs": [],
   "source": [
    "shuffle(mylist)"
   ]
  },
  {
   "cell_type": "code",
   "execution_count": 7,
   "id": "e3f5b318",
   "metadata": {},
   "outputs": [
    {
     "data": {
      "text/plain": [
       "[11, 4, 13, 12, 1, 5, 8, 3, 6, 9, 7, 2]"
      ]
     },
     "execution_count": 7,
     "metadata": {},
     "output_type": "execute_result"
    }
   ],
   "source": [
    "mylist"
   ]
  },
  {
   "cell_type": "code",
   "execution_count": 8,
   "id": "284229a2",
   "metadata": {},
   "outputs": [],
   "source": [
    "from random import randint"
   ]
  },
  {
   "cell_type": "code",
   "execution_count": 10,
   "id": "106a1d60",
   "metadata": {},
   "outputs": [
    {
     "data": {
      "text/plain": [
       "23"
      ]
     },
     "execution_count": 10,
     "metadata": {},
     "output_type": "execute_result"
    }
   ],
   "source": [
    "randint(0,100)"
   ]
  },
  {
   "cell_type": "code",
   "execution_count": 11,
   "id": "9bce19d6",
   "metadata": {},
   "outputs": [
    {
     "data": {
      "text/plain": [
       "89"
      ]
     },
     "execution_count": 11,
     "metadata": {},
     "output_type": "execute_result"
    }
   ],
   "source": [
    "randint(0,100)"
   ]
  },
  {
   "cell_type": "code",
   "execution_count": 12,
   "id": "25c1bde3",
   "metadata": {},
   "outputs": [],
   "source": [
    "mynum = randint(0,10)"
   ]
  },
  {
   "cell_type": "code",
   "execution_count": 13,
   "id": "a1283b16",
   "metadata": {},
   "outputs": [
    {
     "data": {
      "text/plain": [
       "2"
      ]
     },
     "execution_count": 13,
     "metadata": {},
     "output_type": "execute_result"
    }
   ],
   "source": [
    "mynum"
   ]
  },
  {
   "cell_type": "code",
   "execution_count": 7,
   "id": "8fb8a872",
   "metadata": {},
   "outputs": [],
   "source": [
    "mystring = 'hello'"
   ]
  },
  {
   "cell_type": "code",
   "execution_count": 14,
   "id": "3eeb3bf1",
   "metadata": {},
   "outputs": [
    {
     "name": "stdout",
     "output_type": "stream",
     "text": [
      "['h', 'e', 'l', 'l', 'o']\n"
     ]
    }
   ],
   "source": [
    "mylist=[]\n",
    "for letter in mystring:\n",
    "    mylist.append(letter)\n",
    "print(mylist)\n",
    "    "
   ]
  },
  {
   "cell_type": "code",
   "execution_count": 18,
   "id": "7d826c78",
   "metadata": {},
   "outputs": [
    {
     "data": {
      "text/plain": [
       "[32.0, 50.0, 68.0, 76.1]"
      ]
     },
     "execution_count": 18,
     "metadata": {},
     "output_type": "execute_result"
    }
   ],
   "source": [
    "clecius = [0,10,20,24.5]\n",
    "\n",
    "fahrenheit = [((9/5)*temp + 32) for temp in clecius]\n",
    "fahrenheit"
   ]
  },
  {
   "cell_type": "code",
   "execution_count": 21,
   "id": "a44f5326",
   "metadata": {},
   "outputs": [
    {
     "data": {
      "text/plain": [
       "[32.0, 50.0, 68.0, 76.1]"
      ]
     },
     "execution_count": 21,
     "metadata": {},
     "output_type": "execute_result"
    }
   ],
   "source": [
    "fahrenheit = []\n",
    "\n",
    "for temp in clecius:\n",
    "    fahrenheit.append(((9/5)*temp +32))\n",
    "fahrenheit"
   ]
  },
  {
   "cell_type": "code",
   "execution_count": 25,
   "id": "108d437c",
   "metadata": {},
   "outputs": [
    {
     "data": {
      "text/plain": [
       "[0, 'Odd', 2, 'Odd', 4, 'Odd', 6, 'Odd', 8, 'Odd', 10]"
      ]
     },
     "execution_count": 25,
     "metadata": {},
     "output_type": "execute_result"
    }
   ],
   "source": [
    "result = [x if x%2==0 else 'Odd' for x in range(0,11)]\n",
    "result"
   ]
  },
  {
   "cell_type": "code",
   "execution_count": 31,
   "id": "400be4d8",
   "metadata": {},
   "outputs": [
    {
     "name": "stdout",
     "output_type": "stream",
     "text": [
      "[2, 20, 200, 4, 40, 400, 6, 60, 600]\n"
     ]
    }
   ],
   "source": [
    "mylist1 = []\n",
    "for x in [2,4,6]:\n",
    "    for y in [1,10,100]:\n",
    "        mylist1.append(x*y)\n",
    "print(mylist1)"
   ]
  },
  {
   "cell_type": "code",
   "execution_count": 32,
   "id": "663059b0",
   "metadata": {},
   "outputs": [
    {
     "data": {
      "text/plain": [
       "[2, 20, 200, 4, 40, 400, 6, 60, 600, 300]"
      ]
     },
     "execution_count": 32,
     "metadata": {},
     "output_type": "execute_result"
    }
   ],
   "source": [
    "mylist1.append(300)\n",
    "mylist1"
   ]
  },
  {
   "cell_type": "code",
   "execution_count": 33,
   "id": "bd379177",
   "metadata": {},
   "outputs": [
    {
     "name": "stdout",
     "output_type": "stream",
     "text": [
      "Help on built-in function insert:\n",
      "\n",
      "insert(index, object, /) method of builtins.list instance\n",
      "    Insert object before index.\n",
      "\n"
     ]
    }
   ],
   "source": [
    "help(mylist1.insert)\n"
   ]
  },
  {
   "cell_type": "code",
   "execution_count": 6,
   "id": "9c51114f",
   "metadata": {},
   "outputs": [],
   "source": [
    "import numpy as np\n",
    "\n",
    "number = [8, 9, 9, 1, 6, 9, 5, 7, 3, 9, 7, 3, 4, 8, 3, 5, 8, 4, 8, 7, 5, 7, 3, 6, 1, 2, 7, 4, 7, 7, 8, 4, 3, 4, 2, 2, 2, 7, 3, 5, 6, 1, 1, 3, 2, 1, 1, 7, 7, 1, 4, 4, 5, 6, 1, 2, 7, 4, 5, 8, 1, 4, 8, 6, 2, 4, 3, 7, 3, 6, 2, 3, 3, 3, 2, 4, 6, 8, 9, 3, 9, 3, 1, 8, 6, 6, 3, 3, 9, 4, 6, 4, 9, 6, 7, 1, 2, 8, 7, 8, 1, 4]\n",
    "price = [195, 225, 150, 150, 90, 60, 75, 255, 270, 225, 135, 195, 30, 15, 210, 105, 15, 30, 180, 60, 165, 60, 45, 225, 180, 90, 30, 210, 150, 15, 270, 60, 210, 180, 60, 225, 150, 150, 120, 195, 75, 240, 60, 45, 30, 180, 240, 285, 135, 165, 180, 240, 60, 105, 165, 240, 120, 45, 120, 165, 285, 225, 90, 105, 225, 45, 45, 45, 75, 180, 90, 240, 30, 30, 60, 135, 180, 15, 255, 180, 270, 135, 105, 135, 210, 180, 135, 195, 225, 75, 225, 15, 240, 60, 15, 180, 255, 90, 15, 150, 230, 150]"
   ]
  },
  {
   "cell_type": "code",
   "execution_count": 7,
   "id": "ea8d82f9",
   "metadata": {},
   "outputs": [
    {
     "data": {
      "text/plain": [
       "array([8, 9, 9, 1, 6, 9, 5, 7, 3, 9, 7, 3, 4, 8, 3, 5, 8, 4, 8, 7, 5, 7,\n",
       "       3, 6, 1, 2, 7, 4, 7, 7, 8, 4, 3, 4, 2, 2, 2, 7, 3, 5, 6, 1, 1, 3,\n",
       "       2, 1, 1, 7, 7, 1, 4, 4, 5, 6, 1, 2, 7, 4, 5, 8, 1, 4, 8, 6, 2, 4,\n",
       "       3, 7, 3, 6, 2, 3, 3, 3, 2, 4, 6, 8, 9, 3, 9, 3, 1, 8, 6, 6, 3, 3,\n",
       "       9, 4, 6, 4, 9, 6, 7, 1, 2, 8, 7, 8, 1, 4])"
      ]
     },
     "execution_count": 7,
     "metadata": {},
     "output_type": "execute_result"
    }
   ],
   "source": [
    "product_number = np.array(number)\n",
    "product_number"
   ]
  },
  {
   "cell_type": "code",
   "execution_count": null,
   "id": "7d79f685",
   "metadata": {},
   "outputs": [],
   "source": []
  },
  {
   "cell_type": "code",
   "execution_count": null,
   "id": "e985d313",
   "metadata": {},
   "outputs": [],
   "source": []
  },
  {
   "cell_type": "code",
   "execution_count": null,
   "id": "e904168d",
   "metadata": {},
   "outputs": [],
   "source": []
  },
  {
   "cell_type": "code",
   "execution_count": null,
   "id": "193d7398",
   "metadata": {},
   "outputs": [],
   "source": []
  },
  {
   "cell_type": "code",
   "execution_count": null,
   "id": "ec3a3c7d",
   "metadata": {},
   "outputs": [],
   "source": []
  },
  {
   "cell_type": "code",
   "execution_count": null,
   "id": "02643c24",
   "metadata": {},
   "outputs": [],
   "source": []
  },
  {
   "cell_type": "code",
   "execution_count": null,
   "id": "4a03c678",
   "metadata": {},
   "outputs": [],
   "source": []
  },
  {
   "cell_type": "code",
   "execution_count": null,
   "id": "d4392e7b",
   "metadata": {},
   "outputs": [],
   "source": []
  },
  {
   "cell_type": "code",
   "execution_count": null,
   "id": "cc247e81",
   "metadata": {},
   "outputs": [],
   "source": []
  }
 ],
 "metadata": {
  "kernelspec": {
   "display_name": "Python 3 (ipykernel)",
   "language": "python",
   "name": "python3"
  },
  "language_info": {
   "codemirror_mode": {
    "name": "ipython",
    "version": 3
   },
   "file_extension": ".py",
   "mimetype": "text/x-python",
   "name": "python",
   "nbconvert_exporter": "python",
   "pygments_lexer": "ipython3",
   "version": "3.9.7"
  }
 },
 "nbformat": 4,
 "nbformat_minor": 5
}
